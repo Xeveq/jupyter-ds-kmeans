{
 "cells": [
  {
   "cell_type": "code",
   "execution_count": 196,
   "id": "6dbb3df9",
   "metadata": {},
   "outputs": [],
   "source": [
    "import pandas as pd \n",
    "import numpy as np\n",
    "import matplotlib.pyplot as plt\n",
    "from random import randrange, uniform\n",
    "import math"
   ]
  },
  {
   "cell_type": "code",
   "execution_count": 2,
   "id": "0193d9ba",
   "metadata": {},
   "outputs": [],
   "source": [
    "from sklearn.datasets import load_iris"
   ]
  },
  {
   "cell_type": "code",
   "execution_count": 164,
   "id": "cff354cc",
   "metadata": {},
   "outputs": [],
   "source": [
    "iris = load_iris()"
   ]
  },
  {
   "cell_type": "code",
   "execution_count": 165,
   "id": "4007b5b4",
   "metadata": {},
   "outputs": [
    {
     "data": {
      "text/plain": [
       "['sepal length (cm)',\n",
       " 'sepal width (cm)',\n",
       " 'petal length (cm)',\n",
       " 'petal width (cm)']"
      ]
     },
     "execution_count": 165,
     "metadata": {},
     "output_type": "execute_result"
    }
   ],
   "source": [
    "iris.feature_names"
   ]
  },
  {
   "cell_type": "code",
   "execution_count": 166,
   "id": "941bcb04",
   "metadata": {},
   "outputs": [
    {
     "data": {
      "text/html": [
       "<div>\n",
       "<style scoped>\n",
       "    .dataframe tbody tr th:only-of-type {\n",
       "        vertical-align: middle;\n",
       "    }\n",
       "\n",
       "    .dataframe tbody tr th {\n",
       "        vertical-align: top;\n",
       "    }\n",
       "\n",
       "    .dataframe thead th {\n",
       "        text-align: right;\n",
       "    }\n",
       "</style>\n",
       "<table border=\"1\" class=\"dataframe\">\n",
       "  <thead>\n",
       "    <tr style=\"text-align: right;\">\n",
       "      <th></th>\n",
       "      <th>sepal length (cm)</th>\n",
       "      <th>sepal width (cm)</th>\n",
       "      <th>petal length (cm)</th>\n",
       "      <th>petal width (cm)</th>\n",
       "    </tr>\n",
       "  </thead>\n",
       "  <tbody>\n",
       "    <tr>\n",
       "      <th>0</th>\n",
       "      <td>5.1</td>\n",
       "      <td>3.5</td>\n",
       "      <td>1.4</td>\n",
       "      <td>0.2</td>\n",
       "    </tr>\n",
       "    <tr>\n",
       "      <th>1</th>\n",
       "      <td>4.9</td>\n",
       "      <td>3.0</td>\n",
       "      <td>1.4</td>\n",
       "      <td>0.2</td>\n",
       "    </tr>\n",
       "    <tr>\n",
       "      <th>2</th>\n",
       "      <td>4.7</td>\n",
       "      <td>3.2</td>\n",
       "      <td>1.3</td>\n",
       "      <td>0.2</td>\n",
       "    </tr>\n",
       "    <tr>\n",
       "      <th>3</th>\n",
       "      <td>4.6</td>\n",
       "      <td>3.1</td>\n",
       "      <td>1.5</td>\n",
       "      <td>0.2</td>\n",
       "    </tr>\n",
       "    <tr>\n",
       "      <th>4</th>\n",
       "      <td>5.0</td>\n",
       "      <td>3.6</td>\n",
       "      <td>1.4</td>\n",
       "      <td>0.2</td>\n",
       "    </tr>\n",
       "  </tbody>\n",
       "</table>\n",
       "</div>"
      ],
      "text/plain": [
       "   sepal length (cm)  sepal width (cm)  petal length (cm)  petal width (cm)\n",
       "0                5.1               3.5                1.4               0.2\n",
       "1                4.9               3.0                1.4               0.2\n",
       "2                4.7               3.2                1.3               0.2\n",
       "3                4.6               3.1                1.5               0.2\n",
       "4                5.0               3.6                1.4               0.2"
      ]
     },
     "execution_count": 166,
     "metadata": {},
     "output_type": "execute_result"
    }
   ],
   "source": [
    "df = pd.DataFrame(data=iris.data, columns=iris.feature_names)\n",
    "df.head()"
   ]
  },
  {
   "cell_type": "code",
   "execution_count": 168,
   "id": "b6d491e6",
   "metadata": {},
   "outputs": [],
   "source": [
    "sepal_len_width = iris.data[:, :2]  # first two columns: sepal length (cm) and sepal width (cm)"
   ]
  },
  {
   "cell_type": "code",
   "execution_count": 90,
   "id": "e8616969",
   "metadata": {},
   "outputs": [],
   "source": [
    "petal_len_width = iris.data[:, 2:]  # last two columns: petal length (cm) and petalwidth (cm)"
   ]
  },
  {
   "cell_type": "code",
   "execution_count": 170,
   "id": "a2e938ee",
   "metadata": {},
   "outputs": [
    {
     "data": {
      "text/plain": [
       "Text(0, 0.5, 'Sepal width')"
      ]
     },
     "execution_count": 170,
     "metadata": {},
     "output_type": "execute_result"
    },
    {
     "data": {
      "image/png": "[encoded data removed]",
      "text/plain": [
       "<Figure size 432x288 with 1 Axes>"
      ]
     },
     "metadata": {
      "needs_background": "light"
     },
     "output_type": "display_data"
    }
   ],
   "source": [
    "plt.scatter(sepal_len_width[:, 0], sepal_len_width[:, 1])\n",
    "plt.xlabel(\"Sepal length\")\n",
    "plt.ylabel(\"Sepal width\")"
   ]
  },
  {
   "cell_type": "code",
   "execution_count": 172,
   "id": "472da151",
   "metadata": {
    "scrolled": true
   },
   "outputs": [
    {
     "data": {
      "text/plain": [
       "Text(0, 0.5, 'Petal width')"
      ]
     },
     "execution_count": 172,
     "metadata": {},
     "output_type": "execute_result"
    },
    {
     "data": {
      "image/png": "[encoded data removed]",
      "text/plain": [
       "<Figure size 432x288 with 1 Axes>"
      ]
     },
     "metadata": {
      "needs_background": "light"
     },
     "output_type": "display_data"
    }
   ],
   "source": [
    "plt.scatter(petal_len_width[:, 0], petal_len_width[:, 1])\n",
    "plt.xlabel(\"Petal length\")\n",
    "plt.ylabel(\"Petal width\")"
   ]
  },
  {
   "cell_type": "code",
   "execution_count": 173,
   "id": "1e06fdca",
   "metadata": {},
   "outputs": [
    {
     "data": {
      "text/plain": [
       "(1.0, 6.9)"
      ]
     },
     "execution_count": 173,
     "metadata": {},
     "output_type": "execute_result"
    }
   ],
   "source": [
    "min(petal_len_width[:, 0]), max(petal_len_width[:, 0])"
   ]
  },
  {
   "cell_type": "code",
   "execution_count": 174,
   "id": "6231c0f8",
   "metadata": {},
   "outputs": [
    {
     "data": {
      "text/plain": [
       "(0.1, 2.5)"
      ]
     },
     "execution_count": 174,
     "metadata": {},
     "output_type": "execute_result"
    }
   ],
   "source": [
    "min(petal_len_width[:, 1]), max(petal_len_width[:, 1])"
   ]
  },
  {
   "cell_type": "code",
   "execution_count": 175,
   "id": "af84d311",
   "metadata": {},
   "outputs": [],
   "source": [
    "def random_start():\n",
    "    random_petal_len = round(uniform(min(petal_len_width[:, 0]), max(petal_len_width[:, 0])), 1)\n",
    "    random_petal_width = round(uniform(min(petal_len_width[:, 1]), max(petal_len_width[:, 1])), 1)\n",
    "    return random_petal_len, random_petal_width"
   ]
  },
  {
   "cell_type": "code",
   "execution_count": 597,
   "id": "383bd541",
   "metadata": {},
   "outputs": [],
   "source": [
    "r1 = random_start()\n",
    "r2 = random_start()\n",
    "r3 = random_start()"
   ]
  },
  {
   "cell_type": "code",
   "execution_count": 598,
   "id": "2ccac4fd",
   "metadata": {},
   "outputs": [
    {
     "data": {
      "text/plain": [
       "((4.5, 0.6), (6.7, 2.4), (4.3, 1.3))"
      ]
     },
     "execution_count": 598,
     "metadata": {},
     "output_type": "execute_result"
    }
   ],
   "source": [
    "r1,r2,r3"
   ]
  },
  {
   "cell_type": "code",
   "execution_count": 599,
   "id": "7d4ed896",
   "metadata": {},
   "outputs": [
    {
     "data": {
      "text/plain": [
       "Text(0, 0.5, 'Petal width')"
      ]
     },
     "execution_count": 599,
     "metadata": {},
     "output_type": "execute_result"
    },
    {
     "data": {
      "image/png": "[encoded data removed]",
      "text/plain": [
       "<Figure size 432x288 with 1 Axes>"
      ]
     },
     "metadata": {
      "needs_background": "light"
     },
     "output_type": "display_data"
    }
   ],
   "source": [
    "plt.scatter(petal_len_width[:, 0], petal_len_width[:, 1])\n",
    "plt.scatter(r1[0], r1[1], marker='x', c='#f58231')\n",
    "plt.scatter(r2[0], r2[1], marker='x', c='#911eb4')\n",
    "plt.scatter(r3[0], r3[1], marker='x', c='#3cb44b')\n",
    "plt.xlabel(\"Petal length\")\n",
    "plt.ylabel(\"Petal width\")"
   ]
  },
  {
   "cell_type": "code",
   "execution_count": 600,
   "id": "34093352",
   "metadata": {},
   "outputs": [],
   "source": [
    "dist = math.sqrt(pow(r1[0] - petal_len_width[0, 0], 2)+pow(r1[1] - petal_len_width[0, 1], 2))"
   ]
  },
  {
   "cell_type": "code",
   "execution_count": 601,
   "id": "13f8c045",
   "metadata": {},
   "outputs": [
    {
     "data": {
      "image/png": "[encoded data removed]",
      "text/plain": [
       "<Figure size 432x288 with 1 Axes>"
      ]
     },
     "metadata": {
      "needs_background": "light"
     },
     "output_type": "display_data"
    }
   ],
   "source": [
    "x_first_array = ()\n",
    "y_first_array = ()\n",
    "x_second_array = ()\n",
    "y_second_array = ()\n",
    "x_third_array = ()\n",
    "y_third_array = ()\n",
    "\n",
    "for petal in petal_len_width:\n",
    "    dist_first = math.sqrt(pow(r1[0] - petal[0], 2) + pow(r1[1] - petal[1], 2))\n",
    "    dist_second = math.sqrt(pow(r2[0] - petal[0], 2) + pow(r2[1] - petal[1], 2))\n",
    "    dist_third = math.sqrt(pow(r3[0] - petal[0], 2) + pow(r3[1] - petal[1], 2))\n",
    "    if dist_first < dist_second and dist_first < dist_third:\n",
    "        plt.scatter(petal[0], petal[1], marker='o', c='#ffd8b1')\n",
    "        x_first_array = np.append(x_first_array, petal[0])\n",
    "        y_first_array = np.append(y_first_array, petal[1])\n",
    "    elif dist_second < dist_first and dist_second < dist_third:\n",
    "        plt.scatter(petal[0], petal[1], marker='o', c='#dcbeff')\n",
    "        x_second_array = np.append(x_second_array, petal[0])\n",
    "        y_second_array = np.append(y_second_array, petal[1])\n",
    "    else:\n",
    "        plt.scatter(petal[0], petal[1], marker='o', c='#aaffc3')\n",
    "        x_third_array = np.append(x_third_array, petal[0])\n",
    "        y_third_array = np.append(y_third_array, petal[1])\n",
    "    plt.scatter(r1[0], r1[1], marker='x',c='#f58231')\n",
    "    plt.scatter(r2[0], r2[1], marker='x', c='#911eb4')\n",
    "    plt.scatter(r3[0], r3[1], marker='x', c='#3cb44b')\n",
    "plt.show()\n",
    "\n",
    "new_x_first = sum(x_first_array) / len(x_first_array)\n",
    "new_y_first = sum(y_first_array) / len(y_first_array)\n",
    "new_x_second = sum(x_second_array) / len(x_second_array)\n",
    "new_y_second = sum(y_second_array) / len(y_second_array)\n",
    "new_x_third = sum(x_third_array) / len(x_third_array)\n",
    "new_y_third = sum(y_third_array) / len(y_third_array)"
   ]
  },
  {
   "cell_type": "code",
   "execution_count": null,
   "id": "c67715ba",
   "metadata": {},
   "outputs": [],
   "source": [
    "#todo: secure for division by zero"
   ]
  },
  {
   "cell_type": "code",
   "execution_count": 614,
   "id": "f38962fc",
   "metadata": {},
   "outputs": [],
   "source": [
    "r1=(new_x_first, new_y_first)\n",
    "r2=(new_x_second, new_y_second)\n",
    "r3=(new_x_third, new_y_third)\n",
    "x_first_array = ()\n",
    "y_first_array = ()\n",
    "x_second_array = ()\n",
    "y_second_array = ()\n",
    "x_third_array = ()\n",
    "y_third_array = ()"
   ]
  },
  {
   "cell_type": "code",
   "execution_count": 615,
   "id": "870630bb",
   "metadata": {},
   "outputs": [
    {
     "data": {
      "image/png": "[encoded data removed]",
      "text/plain": [
       "<Figure size 432x288 with 1 Axes>"
      ]
     },
     "metadata": {
      "needs_background": "light"
     },
     "output_type": "display_data"
    }
   ],
   "source": [
    "for petal in petal_len_width:\n",
    "    dist_first = math.sqrt(pow(r1[0] - petal[0], 2) + pow(r1[1] - petal[1], 2))\n",
    "    dist_second = math.sqrt(pow(r2[0] - petal[0], 2) + pow(r2[1] - petal[1], 2))\n",
    "    dist_third = math.sqrt(pow(r3[0] - petal[0], 2) + pow(r3[1] - petal[1], 2))\n",
    "    if dist_first < dist_second and dist_first < dist_third:\n",
    "        plt.scatter(petal[0], petal[1], marker='o', c='#ffd8b1')\n",
    "        x_first_array = np.append(x_first_array, petal[0])\n",
    "        y_first_array = np.append(y_first_array, petal[1])\n",
    "    elif dist_second < dist_first and dist_second < dist_third:\n",
    "        plt.scatter(petal[0], petal[1], marker='o', c='#dcbeff')\n",
    "        x_second_array = np.append(x_second_array, petal[0])\n",
    "        y_second_array = np.append(y_second_array, petal[1])\n",
    "    else:\n",
    "        plt.scatter(petal[0], petal[1], marker='o', c='#aaffc3')\n",
    "        x_third_array = np.append(x_third_array, petal[0])\n",
    "        y_third_array = np.append(y_third_array, petal[1])\n",
    "    plt.scatter(r1[0], r1[1], marker='x',c='#f58231')\n",
    "    plt.scatter(r2[0], r2[1], marker='x', c='#911eb4')\n",
    "    plt.scatter(r3[0], r3[1], marker='x', c='#3cb44b')\n",
    "plt.show()\n",
    "\n",
    "new_x_first = sum(x_first_array) / len(x_first_array)\n",
    "new_y_first = sum(y_first_array) / len(y_first_array)\n",
    "new_x_second = sum(x_second_array) / len(x_second_array)\n",
    "new_y_second = sum(y_second_array) / len(y_second_array)\n",
    "new_x_third = sum(x_third_array) / len(x_third_array)\n",
    "new_y_third = sum(y_third_array) / len(y_third_array)"
   ]
  },
  {
   "cell_type": "code",
   "execution_count": null,
   "id": "1f232ad3",
   "metadata": {},
   "outputs": [],
   "source": []
  }
 ],
 "metadata": {
  "kernelspec": {
   "display_name": "Python 3 (ipykernel)",
   "language": "python",
   "name": "python3"
  },
  "language_info": {
   "codemirror_mode": {
    "name": "ipython",
    "version": 3
   },
   "file_extension": ".py",
   "mimetype": "text/x-python",
   "name": "python",
   "nbconvert_exporter": "python",
   "pygments_lexer": "ipython3",
   "version": "3.10.0"
  }
 },
 "nbformat": 4,
 "nbformat_minor": 5
}
