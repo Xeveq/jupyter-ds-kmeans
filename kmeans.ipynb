{
 "cells": [
  {
   "cell_type": "code",
   "execution_count": 196,
   "id": "6dbb3df9",
   "metadata": {},
   "outputs": [],
   "source": [
    "import pandas as pd \n",
    "import numpy as np\n",
    "import matplotlib.pyplot as plt\n",
    "from random import randrange, uniform\n",
    "import math"
   ]
  },
  {
   "cell_type": "code",
   "execution_count": 2,
   "id": "0193d9ba",
   "metadata": {},
   "outputs": [],
   "source": [
    "from sklearn.datasets import load_iris"
   ]
  },
  {
   "cell_type": "code",
   "execution_count": 164,
   "id": "cff354cc",
   "metadata": {},
   "outputs": [],
   "source": [
    "iris = load_iris()"
   ]
  },
  {
   "cell_type": "code",
   "execution_count": 165,
   "id": "4007b5b4",
   "metadata": {},
   "outputs": [
    {
     "data": {
      "text/plain": [
       "['sepal length (cm)',\n",
       " 'sepal width (cm)',\n",
       " 'petal length (cm)',\n",
       " 'petal width (cm)']"
      ]
     },
     "execution_count": 165,
     "metadata": {},
     "output_type": "execute_result"
    }
   ],
   "source": [
    "iris.feature_names"
   ]
  },
  {
   "cell_type": "code",
   "execution_count": 166,
   "id": "941bcb04",
   "metadata": {},
   "outputs": [
    {
     "data": {
      "text/html": [
       "<div>\n",
       "<style scoped>\n",
       "    .dataframe tbody tr th:only-of-type {\n",
       "        vertical-align: middle;\n",
       "    }\n",
       "\n",
       "    .dataframe tbody tr th {\n",
       "        vertical-align: top;\n",
       "    }\n",
       "\n",
       "    .dataframe thead th {\n",
       "        text-align: right;\n",
       "    }\n",
       "</style>\n",
       "<table border=\"1\" class=\"dataframe\">\n",
       "  <thead>\n",
       "    <tr style=\"text-align: right;\">\n",
       "      <th></th>\n",
       "      <th>sepal length (cm)</th>\n",
       "      <th>sepal width (cm)</th>\n",
       "      <th>petal length (cm)</th>\n",
       "      <th>petal width (cm)</th>\n",
       "    </tr>\n",
       "  </thead>\n",
       "  <tbody>\n",
       "    <tr>\n",
       "      <th>0</th>\n",
       "      <td>5.1</td>\n",
       "      <td>3.5</td>\n",
       "      <td>1.4</td>\n",
       "      <td>0.2</td>\n",
       "    </tr>\n",
       "    <tr>\n",
       "      <th>1</th>\n",
       "      <td>4.9</td>\n",
       "      <td>3.0</td>\n",
       "      <td>1.4</td>\n",
       "      <td>0.2</td>\n",
       "    </tr>\n",
       "    <tr>\n",
       "      <th>2</th>\n",
       "      <td>4.7</td>\n",
       "      <td>3.2</td>\n",
       "      <td>1.3</td>\n",
       "      <td>0.2</td>\n",
       "    </tr>\n",
       "    <tr>\n",
       "      <th>3</th>\n",
       "      <td>4.6</td>\n",
       "      <td>3.1</td>\n",
       "      <td>1.5</td>\n",
       "      <td>0.2</td>\n",
       "    </tr>\n",
       "    <tr>\n",
       "      <th>4</th>\n",
       "      <td>5.0</td>\n",
       "      <td>3.6</td>\n",
       "      <td>1.4</td>\n",
       "      <td>0.2</td>\n",
       "    </tr>\n",
       "  </tbody>\n",
       "</table>\n",
       "</div>"
      ],
      "text/plain": [
       "   sepal length (cm)  sepal width (cm)  petal length (cm)  petal width (cm)\n",
       "0                5.1               3.5                1.4               0.2\n",
       "1                4.9               3.0                1.4               0.2\n",
       "2                4.7               3.2                1.3               0.2\n",
       "3                4.6               3.1                1.5               0.2\n",
       "4                5.0               3.6                1.4               0.2"
      ]
     },
     "execution_count": 166,
     "metadata": {},
     "output_type": "execute_result"
    }
   ],
   "source": [
    "df = pd.DataFrame(data=iris.data, columns=iris.feature_names)\n",
    "df.head()"
   ]
  },
  {
   "cell_type": "code",
   "execution_count": 168,
   "id": "b6d491e6",
   "metadata": {},
   "outputs": [],
   "source": [
    "sepal_len_width = iris.data[:, :2]  # first two columns: sepal length (cm) and sepal width (cm)"
   ]
  },
  {
   "cell_type": "code",
   "execution_count": 90,
   "id": "e8616969",
   "metadata": {},
   "outputs": [],
   "source": [
    "petal_len_width = iris.data[:, 2:]  # last two columns: petal length (cm) and petalwidth (cm)"
   ]
  },
  {
   "cell_type": "code",
   "execution_count": 170,
   "id": "a2e938ee",
   "metadata": {},
   "outputs": [
    {
     "data": {
      "text/plain": [
       "Text(0, 0.5, 'Sepal width')"
      ]
     },
     "execution_count": 170,
     "metadata": {},
     "output_type": "execute_result"
    },
    {
     "data": {
      "image/png": "[encoded data removed]",
      "text/plain": [
       "<Figure size 432x288 with 1 Axes>"
      ]
     },
     "metadata": {
      "needs_background": "light"
     },
     "output_type": "display_data"
    }
   ],
   "source": [
    "plt.scatter(sepal_len_width[:, 0], sepal_len_width[:, 1])\n",
    "plt.xlabel(\"Sepal length\")\n",
    "plt.ylabel(\"Sepal width\")"
   ]
  },
  {
   "cell_type": "code",
   "execution_count": 172,
   "id": "472da151",
   "metadata": {
    "scrolled": true
   },
   "outputs": [
    {
     "data": {
      "text/plain": [
       "Text(0, 0.5, 'Petal width')"
      ]
     },
     "execution_count": 172,
     "metadata": {},
     "output_type": "execute_result"
    },
    {
     "data": {
      "image/png": "[encoded data removed]",
      "text/plain": [
       "<Figure size 432x288 with 1 Axes>"
      ]
     },
     "metadata": {
      "needs_background": "light"
     },
     "output_type": "display_data"
    }
   ],
   "source": [
    "plt.scatter(petal_len_width[:, 0], petal_len_width[:, 1])\n",
    "plt.xlabel(\"Petal length\")\n",
    "plt.ylabel(\"Petal width\")"
   ]
  },
  {
   "cell_type": "code",
   "execution_count": 173,
   "id": "9500f855",
   "metadata": {},
   "outputs": [
    {
     "data": {
      "text/plain": [
       "(1.0, 6.9)"
      ]
     },
     "execution_count": 173,
     "metadata": {},
     "output_type": "execute_result"
    }
   ],
   "source": [
    "min(petal_len_width[:, 0]), max(petal_len_width[:, 0])"
   ]
  },
  {
   "cell_type": "code",
   "execution_count": 174,
   "id": "d988cc4c",
   "metadata": {},
   "outputs": [
    {
     "data": {
      "text/plain": [
       "(0.1, 2.5)"
      ]
     },
     "execution_count": 174,
     "metadata": {},
     "output_type": "execute_result"
    }
   ],
   "source": [
    "min(petal_len_width[:, 1]), max(petal_len_width[:, 1])"
   ]
  },
  {
   "cell_type": "code",
   "execution_count": 175,
   "id": "b523299f",
   "metadata": {},
   "outputs": [],
   "source": [
    "def random_start():\n",
    "    random_petal_len = round(uniform(min(petal_len_width[:, 0]), max(petal_len_width[:, 0])),1)\n",
    "    random_petal_width = round(uniform(min(petal_len_width[:, 1]), max(petal_len_width[:, 1])),1)\n",
    "    return random_petal_len, random_petal_width"
   ]
  },
  {
   "cell_type": "code",
   "execution_count": 466,
   "id": "a76ecc6c",
   "metadata": {},
   "outputs": [
    {
     "data": {
      "text/plain": [
       "(4.8, 0.8)"
      ]
     },
     "execution_count": 466,
     "metadata": {},
     "output_type": "execute_result"
    }
   ],
   "source": [
    "r1 = random_start()\n",
    "r1"
   ]
  },
  {
   "cell_type": "code",
   "execution_count": 467,
   "id": "db2589c5",
   "metadata": {},
   "outputs": [
    {
     "data": {
      "text/plain": [
       "(1.2, 0.3)"
      ]
     },
     "execution_count": 467,
     "metadata": {},
     "output_type": "execute_result"
    }
   ],
   "source": [
    "r2 = random_start()\n",
    "r2"
   ]
  },
  {
   "cell_type": "code",
   "execution_count": 468,
   "id": "ea781c84",
   "metadata": {},
   "outputs": [
    {
     "data": {
      "text/plain": [
       "Text(0, 0.5, 'Pepal width')"
      ]
     },
     "execution_count": 468,
     "metadata": {},
     "output_type": "execute_result"
    },
    {
     "data": {
      "image/png": "[encoded data removed]",
      "text/plain": [
       "<Figure size 432x288 with 1 Axes>"
      ]
     },
     "metadata": {
      "needs_background": "light"
     },
     "output_type": "display_data"
    }
   ],
   "source": [
    "plt.scatter(petal_len_width[:, 0], petal_len_width[:, 1])\n",
    "plt.scatter(r1[0],r1[1], marker='x',c='magenta')\n",
    "plt.scatter(r2[0], r2[1], marker='*', c='cyan')\n",
    "plt.xlabel(\"Pepal length\")\n",
    "plt.ylabel(\"Pepal width\")"
   ]
  },
  {
   "cell_type": "code",
   "execution_count": 450,
   "id": "3bd5769f",
   "metadata": {},
   "outputs": [],
   "source": [
    "dist = math.sqrt(pow(r1[0]-petal_len_width[0,0],2)+pow(r1[1]-petal_len_width[0,1],2))"
   ]
  },
  {
   "cell_type": "code",
   "execution_count": 469,
   "id": "a7221d2e",
   "metadata": {},
   "outputs": [],
   "source": [
    "nr1_x=()\n",
    "nr1_y=()\n",
    "nr2_x=()\n",
    "nr2_y=()"
   ]
  },
  {
   "cell_type": "code",
   "execution_count": 479,
   "id": "dc7cbc3a",
   "metadata": {},
   "outputs": [
    {
     "data": {
      "image/png": "[encoded data removed]",
      "text/plain": [
       "<Figure size 432x288 with 1 Axes>"
      ]
     },
     "metadata": {
      "needs_background": "light"
     },
     "output_type": "display_data"
    },
    {
     "data": {
      "text/plain": [
       "0.3"
      ]
     },
     "execution_count": 479,
     "metadata": {},
     "output_type": "execute_result"
    }
   ],
   "source": [
    "for petal in petal_len_width:\n",
    "    dist = math.sqrt(pow(r1[0]-petal[0],2)+pow(r1[1]-petal[1],2))\n",
    "    dist2 = math.sqrt(pow(r2[0]-petal[0],2)+pow(r2[1]-petal[1],2))\n",
    "    if dist < dist2:\n",
    "        plt.scatter(petal[0], petal[1], marker = 'o', c='#ffd8b1')\n",
    "        nr1_x = np.append(nr1_x, petal[0])\n",
    "        nr1_y = np.append(nr1_y, petal[1])\n",
    "    else:\n",
    "        plt.scatter(petal[0], petal[1], marker = 'o', c='#dcbeff')\n",
    "        nr2_x = np.append(nr2_x, petal[0])\n",
    "        nr2_y = np.append(nr2_y, petal[1])\n",
    "    plt.scatter(r1[0], r1[1], marker='x',c='#f58231')\n",
    "    plt.scatter(r2[0], r2[1], marker='x', c='#911eb4')\n",
    "plt.show()\n",
    "\n",
    "new_x = sum(nr1_x)/len(nr1_x)\n",
    "new_y = sum(nr1_y)/len(nr1_y)\n",
    "round(new_x,1)\n",
    "round(new_y,1)\n",
    "new_x2 = sum(nr2_x)/len(nr2_x)\n",
    "new_y2 = sum(nr2_y)/len(nr2_y)\n",
    "round(new_x2,1)\n",
    "round(new_y2,1)"
   ]
  },
  {
   "cell_type": "code",
   "execution_count": 473,
   "id": "9e0dffcf",
   "metadata": {},
   "outputs": [],
   "source": [
    "r1=(new_x, new_y)\n",
    "r2=(new_x2, new_y2)\n",
    "nr1_x=()\n",
    "nr1_y=()\n",
    "nr2_x=()\n",
    "nr2_y=()"
   ]
  },
  {
   "cell_type": "code",
   "execution_count": 474,
   "id": "fdf03e60",
   "metadata": {},
   "outputs": [
    {
     "data": {
      "image/png": "[encoded data removed]",
      "text/plain": [
       "<Figure size 432x288 with 1 Axes>"
      ]
     },
     "metadata": {
      "needs_background": "light"
     },
     "output_type": "display_data"
    },
    {
     "data": {
      "text/plain": [
       "0.3"
      ]
     },
     "execution_count": 474,
     "metadata": {},
     "output_type": "execute_result"
    }
   ],
   "source": [
    "for petal in petal_len_width:\n",
    "    dist = math.sqrt(pow(r1[0]-petal[0],2)+pow(r1[1]-petal[1],2))\n",
    "    dist2 = math.sqrt(pow(r2[0]-petal[0],2)+pow(r2[1]-petal[1],2))\n",
    "    if dist < dist2:\n",
    "        plt.scatter(petal[0], petal[1], c='magenta')\n",
    "        nr1_x = np.append(nr1_x, petal[0])\n",
    "        nr1_y = np.append(nr1_y, petal[1])\n",
    "    else:\n",
    "        plt.scatter(petal[0], petal[1] ,c='cyan')\n",
    "        nr2_x = np.append(nr2_x, petal[0])\n",
    "        nr2_y = np.append(nr2_y, petal[1])\n",
    "    plt.scatter(r1[0], r1[1], marker='x',c='magenta')\n",
    "    plt.scatter(r2[0], r2[1], marker='*', c='cyan')\n",
    "plt.show()\n",
    "new_x = sum(nr1_x)/len(nr1_x)\n",
    "new_y = sum(nr1_y)/len(nr1_y)\n",
    "round(new_x,1)\n",
    "round(new_y,1)\n",
    "new_x2 = sum(nr2_x)/len(nr2_x)\n",
    "new_y2 = sum(nr2_y)/len(nr2_y)\n",
    "round(new_x2,1)\n",
    "round(new_y2,1)"
   ]
  },
  {
   "cell_type": "code",
   "execution_count": null,
   "id": "3dd2b310",
   "metadata": {},
   "outputs": [],
   "source": []
  }
 ],
 "metadata": {
  "kernelspec": {
   "display_name": "Python 3 (ipykernel)",
   "language": "python",
   "name": "python3"
  },
  "language_info": {
   "codemirror_mode": {
    "name": "ipython",
    "version": 3
   },
   "file_extension": ".py",
   "mimetype": "text/x-python",
   "name": "python",
   "nbconvert_exporter": "python",
   "pygments_lexer": "ipython3",
   "version": "3.10.0"
  }
 },
 "nbformat": 4,
 "nbformat_minor": 5
}
