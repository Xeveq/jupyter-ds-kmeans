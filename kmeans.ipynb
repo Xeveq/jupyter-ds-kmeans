{
 "cells": [
  {
   "cell_type": "code",
   "execution_count": 1,
   "id": "6dbb3df9",
   "metadata": {},
   "outputs": [],
   "source": [
    "import pandas as pd \n",
    "import numpy as np\n",
    "import matplotlib.pyplot as plt\n",
    "from random import randrange, uniform\n",
    "import math\n",
    "import random"
   ]
  },
  {
   "cell_type": "code",
   "execution_count": 2,
   "id": "0193d9ba",
   "metadata": {},
   "outputs": [],
   "source": [
    "from sklearn.datasets import load_iris"
   ]
  },
  {
   "cell_type": "code",
   "execution_count": 3,
   "id": "cff354cc",
   "metadata": {},
   "outputs": [],
   "source": [
    "iris = load_iris()"
   ]
  },
  {
   "cell_type": "code",
   "execution_count": 4,
   "id": "4007b5b4",
   "metadata": {},
   "outputs": [
    {
     "data": {
      "text/plain": [
       "['sepal length (cm)',\n",
       " 'sepal width (cm)',\n",
       " 'petal length (cm)',\n",
       " 'petal width (cm)']"
      ]
     },
     "execution_count": 4,
     "metadata": {},
     "output_type": "execute_result"
    }
   ],
   "source": [
    "iris.feature_names"
   ]
  },
  {
   "cell_type": "code",
   "execution_count": 5,
   "id": "941bcb04",
   "metadata": {},
   "outputs": [
    {
     "data": {
      "text/html": [
       "<div>\n",
       "<style scoped>\n",
       "    .dataframe tbody tr th:only-of-type {\n",
       "        vertical-align: middle;\n",
       "    }\n",
       "\n",
       "    .dataframe tbody tr th {\n",
       "        vertical-align: top;\n",
       "    }\n",
       "\n",
       "    .dataframe thead th {\n",
       "        text-align: right;\n",
       "    }\n",
       "</style>\n",
       "<table border=\"1\" class=\"dataframe\">\n",
       "  <thead>\n",
       "    <tr style=\"text-align: right;\">\n",
       "      <th></th>\n",
       "      <th>sepal length (cm)</th>\n",
       "      <th>sepal width (cm)</th>\n",
       "      <th>petal length (cm)</th>\n",
       "      <th>petal width (cm)</th>\n",
       "    </tr>\n",
       "  </thead>\n",
       "  <tbody>\n",
       "    <tr>\n",
       "      <th>0</th>\n",
       "      <td>5.1</td>\n",
       "      <td>3.5</td>\n",
       "      <td>1.4</td>\n",
       "      <td>0.2</td>\n",
       "    </tr>\n",
       "    <tr>\n",
       "      <th>1</th>\n",
       "      <td>4.9</td>\n",
       "      <td>3.0</td>\n",
       "      <td>1.4</td>\n",
       "      <td>0.2</td>\n",
       "    </tr>\n",
       "    <tr>\n",
       "      <th>2</th>\n",
       "      <td>4.7</td>\n",
       "      <td>3.2</td>\n",
       "      <td>1.3</td>\n",
       "      <td>0.2</td>\n",
       "    </tr>\n",
       "    <tr>\n",
       "      <th>3</th>\n",
       "      <td>4.6</td>\n",
       "      <td>3.1</td>\n",
       "      <td>1.5</td>\n",
       "      <td>0.2</td>\n",
       "    </tr>\n",
       "    <tr>\n",
       "      <th>4</th>\n",
       "      <td>5.0</td>\n",
       "      <td>3.6</td>\n",
       "      <td>1.4</td>\n",
       "      <td>0.2</td>\n",
       "    </tr>\n",
       "  </tbody>\n",
       "</table>\n",
       "</div>"
      ],
      "text/plain": [
       "   sepal length (cm)  sepal width (cm)  petal length (cm)  petal width (cm)\n",
       "0                5.1               3.5                1.4               0.2\n",
       "1                4.9               3.0                1.4               0.2\n",
       "2                4.7               3.2                1.3               0.2\n",
       "3                4.6               3.1                1.5               0.2\n",
       "4                5.0               3.6                1.4               0.2"
      ]
     },
     "execution_count": 5,
     "metadata": {},
     "output_type": "execute_result"
    }
   ],
   "source": [
    "df = pd.DataFrame(data=iris.data, columns=iris.feature_names)\n",
    "df.head()"
   ]
  },
  {
   "cell_type": "code",
   "execution_count": 6,
   "id": "e8616969",
   "metadata": {},
   "outputs": [],
   "source": [
    "petal_len_width = iris.data[:, 2:]  # last two columns: petal length (cm) and petalwidth (cm)"
   ]
  },
  {
   "cell_type": "code",
   "execution_count": 7,
   "id": "472da151",
   "metadata": {
    "scrolled": true
   },
   "outputs": [
    {
     "data": {
      "text/plain": [
       "Text(0, 0.5, 'Petal width')"
      ]
     },
     "execution_count": 7,
     "metadata": {},
     "output_type": "execute_result"
    },
    {
     "data": {
      "image/png": "[encoded data removed]",
      "text/plain": [
       "<Figure size 432x288 with 1 Axes>"
      ]
     },
     "metadata": {
      "needs_background": "light"
     },
     "output_type": "display_data"
    }
   ],
   "source": [
    "plt.scatter(petal_len_width[:, 0], petal_len_width[:, 1])\n",
    "plt.xlabel(\"Petal length\")\n",
    "plt.ylabel(\"Petal width\")"
   ]
  },
  {
   "cell_type": "code",
   "execution_count": 8,
   "id": "8a07f425",
   "metadata": {},
   "outputs": [
    {
     "data": {
      "text/plain": [
       "(1.0, 6.9)"
      ]
     },
     "execution_count": 8,
     "metadata": {},
     "output_type": "execute_result"
    }
   ],
   "source": [
    "min(petal_len_width[:, 0]), max(petal_len_width[:, 0])"
   ]
  },
  {
   "cell_type": "code",
   "execution_count": 9,
   "id": "ab7aef3c",
   "metadata": {},
   "outputs": [
    {
     "data": {
      "text/plain": [
       "(0.1, 2.5)"
      ]
     },
     "execution_count": 9,
     "metadata": {},
     "output_type": "execute_result"
    }
   ],
   "source": [
    "min(petal_len_width[:, 1]), max(petal_len_width[:, 1])"
   ]
  },
  {
   "cell_type": "code",
   "execution_count": 10,
   "id": "a250e61e",
   "metadata": {},
   "outputs": [],
   "source": [
    "def random_start():\n",
    "    random_petal_len = round(uniform(min(petal_len_width[:, 0]), max(petal_len_width[:, 0])), 1)\n",
    "    random_petal_width = round(uniform(min(petal_len_width[:, 1]), max(petal_len_width[:, 1])), 1)\n",
    "    return random_petal_len, random_petal_width"
   ]
  },
  {
   "cell_type": "code",
   "execution_count": 11,
   "id": "12af873e",
   "metadata": {},
   "outputs": [],
   "source": [
    "#random.seed(178)\n",
    "random.seed(170)\n",
    "r1 = random_start()\n",
    "r2 = random_start()\n",
    "r3 = random_start()"
   ]
  },
  {
   "cell_type": "code",
   "execution_count": 12,
   "id": "3bdce432",
   "metadata": {},
   "outputs": [
    {
     "data": {
      "text/plain": [
       "((5.6, 2.3), (4.5, 0.9), (2.4, 0.7))"
      ]
     },
     "execution_count": 12,
     "metadata": {},
     "output_type": "execute_result"
    }
   ],
   "source": [
    "r1,r2,r3"
   ]
  },
  {
   "cell_type": "code",
   "execution_count": 13,
   "id": "0217921c",
   "metadata": {},
   "outputs": [
    {
     "data": {
      "text/plain": [
       "Text(0, 0.5, 'Petal width')"
      ]
     },
     "execution_count": 13,
     "metadata": {},
     "output_type": "execute_result"
    },
    {
     "data": {
      "image/png": "[encoded data removed]",
      "text/plain": [
       "<Figure size 432x288 with 1 Axes>"
      ]
     },
     "metadata": {
      "needs_background": "light"
     },
     "output_type": "display_data"
    }
   ],
   "source": [
    "plt.scatter(petal_len_width[:, 0], petal_len_width[:, 1])\n",
    "plt.scatter(r1[0], r1[1], marker='x', c='#f58231')\n",
    "plt.scatter(r2[0], r2[1], marker='x', c='#911eb4')\n",
    "plt.scatter(r3[0], r3[1], marker='x', c='#3cb44b')\n",
    "plt.xlabel(\"Petal length\")\n",
    "plt.ylabel(\"Petal width\")"
   ]
  },
  {
   "cell_type": "code",
   "execution_count": 14,
   "id": "601f1eaa",
   "metadata": {},
   "outputs": [],
   "source": [
    "def dist_calc(petal_coords, centroid_coords):\n",
    "    return math.sqrt(pow(centroid_coords[0] - petal_coords[0], 2) + pow(centroid_coords[1] - petal_coords[1], 2))"
   ]
  },
  {
   "cell_type": "code",
   "execution_count": 16,
   "id": "1dd146c0",
   "metadata": {},
   "outputs": [],
   "source": [
    "x_first_array = []\n",
    "y_first_array = []\n",
    "x_second_array = []\n",
    "y_second_array = []\n",
    "x_third_array = []\n",
    "y_third_array = []"
   ]
  },
  {
   "cell_type": "code",
   "execution_count": 17,
   "id": "37218f9d",
   "metadata": {},
   "outputs": [
    {
     "data": {
      "image/png": "[encoded data removed]",
      "text/plain": [
       "<Figure size 432x288 with 1 Axes>"
      ]
     },
     "metadata": {
      "needs_background": "light"
     },
     "output_type": "display_data"
    },
    {
     "name": "stdout",
     "output_type": "stream",
     "text": [
      "Apricot cluster centroid movement: 0.040000000000000036 0.27\n",
      "Lavender cluster centroid movement: 0.17999999999999972 -0.44000000000000006\n",
      "Mint cluster centroid movement: 0.8399999999999999 0.41\n"
     ]
    },
    {
     "data": {
      "image/png": "[encoded data removed]",
      "text/plain": [
       "<Figure size 432x288 with 1 Axes>"
      ]
     },
     "metadata": {
      "needs_background": "light"
     },
     "output_type": "display_data"
    },
    {
     "name": "stdout",
     "output_type": "stream",
     "text": [
      "Apricot cluster centroid movement: -0.020000000000000462 -0.010000000000000231\n",
      "Lavender cluster centroid movement: 0.03000000000000025 0.0\n",
      "Mint cluster centroid movement: 0.050000000000000044 0.019999999999999962\n"
     ]
    },
    {
     "data": {
      "image/png": "[encoded data removed]",
      "text/plain": [
       "<Figure size 432x288 with 1 Axes>"
      ]
     },
     "metadata": {
      "needs_background": "light"
     },
     "output_type": "display_data"
    },
    {
     "name": "stdout",
     "output_type": "stream",
     "text": [
      "Apricot cluster centroid movement: 0.0 0.0\n",
      "Lavender cluster centroid movement: 0.0 0.0\n",
      "Mint cluster centroid movement: 0.010000000000000009 0.010000000000000009\n"
     ]
    },
    {
     "data": {
      "image/png": "[encoded data removed]",
      "text/plain": [
       "<Figure size 432x288 with 1 Axes>"
      ]
     },
     "metadata": {
      "needs_background": "light"
     },
     "output_type": "display_data"
    },
    {
     "name": "stdout",
     "output_type": "stream",
     "text": [
      "Apricot cluster centroid movement: -0.009999999999999787 0.0\n",
      "Lavender cluster centroid movement: 0.009999999999999787 0.0\n",
      "Mint cluster centroid movement: 0.010000000000000009 0.0\n"
     ]
    },
    {
     "data": {
      "image/png": "[encoded data removed]",
      "text/plain": [
       "<Figure size 432x288 with 1 Axes>"
      ]
     },
     "metadata": {
      "needs_background": "light"
     },
     "output_type": "display_data"
    },
    {
     "name": "stdout",
     "output_type": "stream",
     "text": [
      "Apricot cluster centroid movement: 0.0 0.0\n",
      "Lavender cluster centroid movement: 0.0 0.0\n",
      "Mint cluster centroid movement: 0.010000000000000009 0.0\n"
     ]
    },
    {
     "data": {
      "image/png": "[encoded data removed]",
      "text/plain": [
       "<Figure size 432x288 with 1 Axes>"
      ]
     },
     "metadata": {
      "needs_background": "light"
     },
     "output_type": "display_data"
    },
    {
     "name": "stdout",
     "output_type": "stream",
     "text": [
      "Apricot cluster centroid movement: 0.0 0.0\n",
      "Lavender cluster centroid movement: 0.0 0.0\n",
      "Mint cluster centroid movement: 0.0 0.010000000000000009\n"
     ]
    },
    {
     "data": {
      "image/png": "[encoded data removed]",
      "text/plain": [
       "<Figure size 432x288 with 1 Axes>"
      ]
     },
     "metadata": {
      "needs_background": "light"
     },
     "output_type": "display_data"
    },
    {
     "name": "stdout",
     "output_type": "stream",
     "text": [
      "Apricot cluster centroid movement: 0.0 0.0\n",
      "Lavender cluster centroid movement: 0.0 0.0\n",
      "Mint cluster centroid movement: 0.0 0.0\n",
      "iteration finished\n"
     ]
    }
   ],
   "source": [
    "while(True):\n",
    "    for petal in petal_len_width:\n",
    "        dist_first = dist_calc(petal, r1)\n",
    "        dist_second = dist_calc(petal, r2)\n",
    "        dist_third = dist_calc(petal, r3)\n",
    "        if dist_first < dist_second and dist_first < dist_third:\n",
    "            plt.scatter(petal[0], petal[1], marker='o', c='#ffd8b1') #Apricot\n",
    "            x_first_array.append(petal[0])\n",
    "            y_first_array.append(petal[1])\n",
    "        elif dist_second < dist_first and dist_second < dist_third:\n",
    "            plt.scatter(petal[0], petal[1], marker='o', c='#dcbeff') #Lavender\n",
    "            x_second_array.append(petal[0])\n",
    "            y_second_array.append(petal[1])\n",
    "        else:\n",
    "            plt.scatter(petal[0], petal[1], marker='o', c='#aaffc3') #Mint\n",
    "            x_third_array.append(petal[0])\n",
    "            y_third_array.append(petal[1])\n",
    "            \n",
    "    plt.scatter(r1[0], r1[1], marker='x',c='#f58231')\n",
    "    plt.scatter(r2[0], r2[1], marker='x', c='#911eb4')\n",
    "    plt.scatter(r3[0], r3[1], marker='x', c='#3cb44b')\n",
    "    plt.ylabel('petal width')\n",
    "    plt.xlabel('petal lenght')\n",
    "    plt.show()\n",
    "    \n",
    "    #new coords of centroids are calculated\n",
    "    new_x_first = round(sum(x_first_array) / len(x_first_array), 2)\n",
    "    new_y_first = round(sum(y_first_array) / len(y_first_array), 2)\n",
    "    new_x_second = round(sum(x_second_array) / len(x_second_array), 2)\n",
    "    new_y_second = round(sum(y_second_array) / len(y_second_array), 2)\n",
    "    new_x_third = round(sum(x_third_array) / len(x_third_array), 2)\n",
    "    new_y_third = round(sum(y_third_array) / len(y_third_array), 2)\n",
    "\n",
    "    print(\"Apricot cluster centroid movement:\", r1[0] - new_x_first, r1[1] - new_y_first)\n",
    "    print(\"Lavender cluster centroid movement:\", r2[0] - new_x_second, r2[1] - new_y_second)\n",
    "    print(\"Mint cluster centroid movement:\", r3[0] - new_x_third, r3[1] - new_y_third)\n",
    "    \n",
    "    #exit conditions\n",
    "    if  ((abs(r1[0] - new_x_first) < 0.001 and abs(r1[1] - new_y_first) < 0.001) \n",
    "        and (abs(r2[0] - new_x_second) < 0.001 and abs(r2[1] - new_y_second) < 0.001) \n",
    "        and (abs(r3[0] - new_x_third) < 0.001 and abs(r3[1] - new_y_third) < 0.001)):\n",
    "        print(\"iteration finished\")\n",
    "        break\n",
    "    \n",
    "    #new centroids coords are assigned\n",
    "    r1=(new_x_first, new_y_first)\n",
    "    r2=(new_x_second, new_y_second)\n",
    "    r3=(new_x_third, new_y_third)"
   ]
  }
 ],
 "metadata": {
  "kernelspec": {
   "display_name": "Python 3 (ipykernel)",
   "language": "python",
   "name": "python3"
  },
  "language_info": {
   "codemirror_mode": {
    "name": "ipython",
    "version": 3
   },
   "file_extension": ".py",
   "mimetype": "text/x-python",
   "name": "python",
   "nbconvert_exporter": "python",
   "pygments_lexer": "ipython3",
   "version": "3.10.0"
  }
 },
 "nbformat": 4,
 "nbformat_minor": 5
}
